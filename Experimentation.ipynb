{
 "cells": [
  {
   "cell_type": "markdown",
   "id": "0b169fec",
   "metadata": {},
   "source": [
    "Dataset generation 1\n",
    "\n",
    "$Y = 0.8X_1 + 0.1X_2 + \\mathcal{N}(0, 0.5+ \\frac{X_1 + X_2}{2})$\n",
    "\n",
    "with $X_1,X_2 \\sim B(2,2)$\n",
    "\n",
    "Dataset generation 2\n",
    "\n",
    "$Y = 0.5\\sin{(2\\pi X_1)} + 0.2X_2 + \\mathcal{N}(0, 0.1 + 0.4X_1)$\n",
    "\n",
    "with $X_1,X_2 \\sim B(1,3)$\n",
    "\n",
    "Dataset generation 3\n",
    "\n",
    "$Y = \\sqrt{X_1^2+X_2^2} + X_1 + \\mathcal{N}(0, 0.6+ 0.5X_2^2)$\n",
    "\n",
    "with $X_1,X_2 \\sim B(2,3)$"
   ]
  },
  {
   "cell_type": "code",
   "execution_count": 1,
   "id": "5810f30a",
   "metadata": {},
   "outputs": [],
   "source": [
    "import numpy as np\n",
    "from sklearn.ensemble import GradientBoostingRegressor\n",
    "from sklearn.cluster import KMeans\n",
    "import matplotlib.pyplot as plt\n",
    "from scipy.stats import norm\n",
    "\n",
    "\n",
    "\n",
    "def compute_qhat_CQR(y_pred_lower, y_pred_upper, y_true, alpha):\n",
    "    \n",
    "    first_aux = np.array(y_pred_lower) - np.array(y_true)\n",
    "    second_aux = np.array(y_true) - np.array(y_pred_upper)\n",
    "    \n",
    "    non_conformity_scores = np.maximum(first_aux, second_aux)\n",
    "    qhat = np.quantile(non_conformity_scores, 1-alpha)\n",
    "    \n",
    "    return qhat\n",
    "\n",
    "\n",
    "def compute_iou(interval1, interval2):\n",
    "    # Calculate the intersection of the intervals\n",
    "    intersection_start = max(abs(interval1[0]), abs(interval2[0]))\n",
    "    intersection_end = min(abs(interval1[1]), abs(interval2[1]))\n",
    "\n",
    "    # Check if the intervals overlap\n",
    "    if intersection_start > intersection_end:\n",
    "        return 0.0  # Intervals do not overlap\n",
    "\n",
    "    # Calculate the lengths of the intervals\n",
    "    length_interval1 = abs(interval1[1]) - abs(interval1[0])\n",
    "    length_interval2 = abs(interval2[1]) - abs(interval2[0])\n",
    "\n",
    "    # Calculate the length of the intersection\n",
    "    length_intersection = intersection_end - intersection_start\n",
    "\n",
    "    # Compute the IoU\n",
    "    iou = length_intersection / (length_interval1 + length_interval2 - length_intersection)\n",
    "    return iou\n",
    "\n",
    "def compute_iou_test(lower_bound, upper_bound, ground_truth_PIs):\n",
    "    \n",
    "    iou_list = []\n",
    "    \n",
    "    for i in range(len(lower_bound)):\n",
    "        iou_list.append(compute_iou(ground_truth_PIs[i], [lower_bound[i],upper_bound[i]]))\n",
    "    \n",
    "    return np.mean(iou_list)\n",
    "    \n",
    "\n",
    "def train_cal_test_split(X, y, train_size, cal_size):\n",
    "    n = X.shape[0]\n",
    "    n1 = int(X.shape[0] * train_size)\n",
    "    n2 = int(X.shape[0] * cal_size)\n",
    "\n",
    "        \n",
    "    X_train = X[:n1]\n",
    "    X_cal = X[n1:n1+n2]\n",
    "    X_test = X[n1+n2:]\n",
    "    \n",
    "    y_train = y[:n1]\n",
    "    y_cal = y[n1:n1+n2]\n",
    "    y_test = y[n1+n2:]\n",
    "    \n",
    "    return X_train, y_train, X_cal, y_cal, X_test, y_test, (n1,n2)\n",
    "\n",
    "def compute_coverage(y_lower_arr, y_upper_arr, y_true_arr):\n",
    "    count = 0\n",
    "    \n",
    "    for i in range(len(y_true_arr)):\n",
    "        if y_lower_arr[i] < y_true_arr[i] and y_true_arr[i] < y_upper_arr[i]:\n",
    "            count+=1\n",
    "    \n",
    "    return count/len(y_true_arr)\n",
    "\n",
    "\n",
    "def permutation_importance(model_lower, model_upper, X_cal, y_cal, n_repeats):\n",
    "    lower_bound = model_lower.predict(X_cal)\n",
    "    upper_bound = model_upper.predict(X_cal)\n",
    "    baseline_coverage = compute_coverage(lower_bound, upper_bound, y_cal)\n",
    "    \n",
    "    permutation_importances = np.zeros(X_cal.shape[1])\n",
    "    \n",
    "    for j in range(X_cal.shape[1]):\n",
    "        aux = np.zeros(n_repeats)\n",
    "        \n",
    "        for i in range(n_repeats):\n",
    "            \n",
    "            X_cal_permuted = X_cal.copy()  # Create a copy to preserve the original array\n",
    "            X_cal_permuted[:, j] = np.random.permutation(X_cal_permuted[:, j])\n",
    "            \n",
    "            lower_bound = model_lower.predict(X_cal_permuted)\n",
    "            upper_bound = model_upper.predict(X_cal_permuted)\n",
    "            permuted_coverage = compute_coverage(lower_bound, upper_bound, y_cal)\n",
    "            aux[i] = np.abs(baseline_coverage - permuted_coverage)\n",
    "        \n",
    "        permutation_importances[j] = np.mean(aux)\n",
    "        \n",
    "    return permutation_importances\n",
    "\n",
    "\n",
    "def optimized_kmeans(X_cal,desired_variance,feature_importance):\n",
    "    \n",
    "    scores=[]\n",
    "    \n",
    "    mean_point = np.mean(X_cal*feature_importance,axis=0)\n",
    "    SSE = np.sum((X_cal*feature_importance-mean_point)**2)\n",
    "    i=1\n",
    "    \n",
    "    variance=0\n",
    "    \n",
    "    while variance < desired_variance:\n",
    "        \n",
    "        km = KMeans(n_clusters=i+1, random_state=0, n_init = 10).fit(X_cal*feature_importance)\n",
    "        \n",
    "        centroids = km.cluster_centers_\n",
    "        \n",
    "        clusters = km.labels_\n",
    "        \n",
    "        SSE_between=0\n",
    "        \n",
    "        for j in range(len(np.unique(clusters))):\n",
    "            n_k = X_cal[clusters==j,:].shape[0]\n",
    "            \n",
    "            SSE_between+= n_k*np.sum((centroids[j]-mean_point)**2)\n",
    "        \n",
    "        variance = SSE_between/SSE\n",
    "        \n",
    "        scores.append([i+1,variance])\n",
    "        i+=1\n",
    "    \n",
    "    scores = np.array(scores)\n",
    "    \n",
    "    best_k = i\n",
    "    plt.axvline(x=best_k, color='r', linestyle='--')\n",
    "    plt.plot(scores[:,0],scores[:,1])\n",
    "    plt.xlabel('#clusters')\n",
    "    plt.ylabel('Explained variance')\n",
    "    plt.show()\n",
    "    \n",
    "    km =  KMeans(n_clusters=i, random_state=0, n_init = 100).fit(X_cal*feature_importance)\n",
    "    \n",
    "    return km,best_k\n",
    "\n",
    "\n",
    "def compute_qhat_ICQR(model_lower, model_upper, X_cal, y_cal, desired_variance, alpha=0.1):\n",
    "    \n",
    "    lower_bound = model_lower.predict(X_cal)\n",
    "    upper_bound = model_upper.predict(X_cal)\n",
    "    \n",
    "    feature_importance = permutation_importance(model_lower, model_upper, X_cal, y_cal, 100)\n",
    "    km,best_k=optimized_kmeans(X_cal, desired_variance, feature_importance)\n",
    "    \n",
    "    nrows = X_cal.shape[0]\n",
    "    clusters = km.predict(X_cal*feature_importance)\n",
    "\n",
    "    scores=[]\n",
    "    qhats = np.zeros(best_k)\n",
    "\n",
    "    for i in range(best_k):\n",
    "        scores.append([])\n",
    "\n",
    "    for i in range(nrows):\n",
    "        scores[clusters[i]].append(max(lower_bound[i]-y_cal[i],y_cal[i]-upper_bound[i]))\n",
    "\n",
    "\n",
    "    for i in range(best_k):\n",
    "        N = len(scores[i])\n",
    "        \n",
    "        if N>0:\n",
    "            qhats[i] = np.quantile(scores[i],1-alpha)\n",
    "    \n",
    "    return qhats,km, feature_importance\n",
    "\n",
    "def true_function1(X):\n",
    "    return 0.8 * X[:,0] + 0.1 * X[:,1]\n",
    "\n",
    "def true_function1_index(X, i):\n",
    "    return 0.8 * X[i,0] + 0.1 * X[i,1]\n",
    "\n",
    "def true_function2(X):\n",
    "    return 0.5 * np.sin(2 * np.pi * X[:, 0]) + 0.2 * X[:, 1]\n",
    "\n",
    "def true_function2_index(X, i):\n",
    "    return 0.5 * np.sin(2 * np.pi * X[i, 0]) + 0.2 * X[i, 1]\n",
    "\n",
    "def true_function3(X):\n",
    "    return np.sqrt(X[:, 0]**2+X[:, 1]**2) + X[:,0]\n",
    "\n",
    "def true_function3_index(X, i):\n",
    "    return np.sqrt(X[i,0]**2+X[i,1]**2) + X[i,0]\n",
    "\n",
    "\n",
    "    \n",
    "\n"
   ]
  },
  {
   "cell_type": "code",
   "execution_count": 2,
   "id": "0df2dd7d",
   "metadata": {},
   "outputs": [],
   "source": [
    "import numpy as np\n",
    "\n",
    "n = 100000\n",
    "n_features = 2\n",
    "alpha = 0.1\n",
    "\n",
    "X = np.random.beta(2, 3, size=(n, n_features))\n",
    "std_1 = 0.5 + (X[:, 0]+X[:, 1])/2\n",
    "std_2 = 0.1 + 0.4 * X[:, 0]\n",
    "std_3 = 0.6 + 0.5 * X[:, 1]**2\n",
    "\n",
    "noise_1 = np.random.normal(loc=0, scale= std_1, size=(n,))\n",
    "noise_2 = np.random.normal(loc=0, scale=std_2, size=(n,))\n",
    "noise_3 = np.random.normal(loc=0, scale=std_3, size=(n,))\n",
    "\n",
    "\n",
    "y = true_function3(X) + noise_3\n",
    "\n",
    "mu_series = []\n",
    "std_series = []\n",
    "\n",
    "for i in range(n):\n",
    "    mu_series.append(true_function3_index(X,i))\n",
    "    std_series.append(std_3[i])\n",
    "    \n",
    "    "
   ]
  },
  {
   "cell_type": "code",
   "execution_count": 3,
   "id": "92e36c4c",
   "metadata": {},
   "outputs": [],
   "source": [
    "alpha = 0.01\n",
    "coef = norm.ppf(1-alpha/2)"
   ]
  },
  {
   "cell_type": "code",
   "execution_count": 4,
   "id": "d3f92c98",
   "metadata": {},
   "outputs": [],
   "source": [
    "y = np.array(y)"
   ]
  },
  {
   "cell_type": "code",
   "execution_count": 5,
   "id": "ed0edcd9",
   "metadata": {},
   "outputs": [],
   "source": [
    "X_train, y_train, X_cal, y_cal, X_test, y_test, (n1,n2) = train_cal_test_split(X, y, 0.01, 0.4)"
   ]
  },
  {
   "cell_type": "code",
   "execution_count": 6,
   "id": "235af0f1",
   "metadata": {},
   "outputs": [
    {
     "data": {
      "text/html": [
       "<style>#sk-container-id-1 {color: black;background-color: white;}#sk-container-id-1 pre{padding: 0;}#sk-container-id-1 div.sk-toggleable {background-color: white;}#sk-container-id-1 label.sk-toggleable__label {cursor: pointer;display: block;width: 100%;margin-bottom: 0;padding: 0.3em;box-sizing: border-box;text-align: center;}#sk-container-id-1 label.sk-toggleable__label-arrow:before {content: \"▸\";float: left;margin-right: 0.25em;color: #696969;}#sk-container-id-1 label.sk-toggleable__label-arrow:hover:before {color: black;}#sk-container-id-1 div.sk-estimator:hover label.sk-toggleable__label-arrow:before {color: black;}#sk-container-id-1 div.sk-toggleable__content {max-height: 0;max-width: 0;overflow: hidden;text-align: left;background-color: #f0f8ff;}#sk-container-id-1 div.sk-toggleable__content pre {margin: 0.2em;color: black;border-radius: 0.25em;background-color: #f0f8ff;}#sk-container-id-1 input.sk-toggleable__control:checked~div.sk-toggleable__content {max-height: 200px;max-width: 100%;overflow: auto;}#sk-container-id-1 input.sk-toggleable__control:checked~label.sk-toggleable__label-arrow:before {content: \"▾\";}#sk-container-id-1 div.sk-estimator input.sk-toggleable__control:checked~label.sk-toggleable__label {background-color: #d4ebff;}#sk-container-id-1 div.sk-label input.sk-toggleable__control:checked~label.sk-toggleable__label {background-color: #d4ebff;}#sk-container-id-1 input.sk-hidden--visually {border: 0;clip: rect(1px 1px 1px 1px);clip: rect(1px, 1px, 1px, 1px);height: 1px;margin: -1px;overflow: hidden;padding: 0;position: absolute;width: 1px;}#sk-container-id-1 div.sk-estimator {font-family: monospace;background-color: #f0f8ff;border: 1px dotted black;border-radius: 0.25em;box-sizing: border-box;margin-bottom: 0.5em;}#sk-container-id-1 div.sk-estimator:hover {background-color: #d4ebff;}#sk-container-id-1 div.sk-parallel-item::after {content: \"\";width: 100%;border-bottom: 1px solid gray;flex-grow: 1;}#sk-container-id-1 div.sk-label:hover label.sk-toggleable__label {background-color: #d4ebff;}#sk-container-id-1 div.sk-serial::before {content: \"\";position: absolute;border-left: 1px solid gray;box-sizing: border-box;top: 0;bottom: 0;left: 50%;z-index: 0;}#sk-container-id-1 div.sk-serial {display: flex;flex-direction: column;align-items: center;background-color: white;padding-right: 0.2em;padding-left: 0.2em;position: relative;}#sk-container-id-1 div.sk-item {position: relative;z-index: 1;}#sk-container-id-1 div.sk-parallel {display: flex;align-items: stretch;justify-content: center;background-color: white;position: relative;}#sk-container-id-1 div.sk-item::before, #sk-container-id-1 div.sk-parallel-item::before {content: \"\";position: absolute;border-left: 1px solid gray;box-sizing: border-box;top: 0;bottom: 0;left: 50%;z-index: -1;}#sk-container-id-1 div.sk-parallel-item {display: flex;flex-direction: column;z-index: 1;position: relative;background-color: white;}#sk-container-id-1 div.sk-parallel-item:first-child::after {align-self: flex-end;width: 50%;}#sk-container-id-1 div.sk-parallel-item:last-child::after {align-self: flex-start;width: 50%;}#sk-container-id-1 div.sk-parallel-item:only-child::after {width: 0;}#sk-container-id-1 div.sk-dashed-wrapped {border: 1px dashed gray;margin: 0 0.4em 0.5em 0.4em;box-sizing: border-box;padding-bottom: 0.4em;background-color: white;}#sk-container-id-1 div.sk-label label {font-family: monospace;font-weight: bold;display: inline-block;line-height: 1.2em;}#sk-container-id-1 div.sk-label-container {text-align: center;}#sk-container-id-1 div.sk-container {/* jupyter's `normalize.less` sets `[hidden] { display: none; }` but bootstrap.min.css set `[hidden] { display: none !important; }` so we also need the `!important` here to be able to override the default hidden behavior on the sphinx rendered scikit-learn.org. See: https://github.com/scikit-learn/scikit-learn/issues/21755 */display: inline-block !important;position: relative;}#sk-container-id-1 div.sk-text-repr-fallback {display: none;}</style><div id=\"sk-container-id-1\" class=\"sk-top-container\"><div class=\"sk-text-repr-fallback\"><pre>GradientBoostingRegressor(alpha=0.995, loss=&#x27;quantile&#x27;)</pre><b>In a Jupyter environment, please rerun this cell to show the HTML representation or trust the notebook. <br />On GitHub, the HTML representation is unable to render, please try loading this page with nbviewer.org.</b></div><div class=\"sk-container\" hidden><div class=\"sk-item\"><div class=\"sk-estimator sk-toggleable\"><input class=\"sk-toggleable__control sk-hidden--visually\" id=\"sk-estimator-id-1\" type=\"checkbox\" checked><label for=\"sk-estimator-id-1\" class=\"sk-toggleable__label sk-toggleable__label-arrow\">GradientBoostingRegressor</label><div class=\"sk-toggleable__content\"><pre>GradientBoostingRegressor(alpha=0.995, loss=&#x27;quantile&#x27;)</pre></div></div></div></div></div>"
      ],
      "text/plain": [
       "GradientBoostingRegressor(alpha=0.995, loss='quantile')"
      ]
     },
     "execution_count": 6,
     "metadata": {},
     "output_type": "execute_result"
    }
   ],
   "source": [
    "model_lower = GradientBoostingRegressor(loss='quantile', alpha=alpha/2)\n",
    "model_upper = GradientBoostingRegressor(loss='quantile', alpha=1-alpha/2)\n",
    "\n",
    "model_lower.fit(X_train, y_train)\n",
    "model_upper.fit(X_train, y_train)"
   ]
  },
  {
   "cell_type": "code",
   "execution_count": 7,
   "id": "54e47e22",
   "metadata": {},
   "outputs": [],
   "source": [
    "lower_bound = model_lower.predict(X_test)\n",
    "upper_bound = model_upper.predict(X_test)"
   ]
  },
  {
   "cell_type": "code",
   "execution_count": 8,
   "id": "91df0279",
   "metadata": {},
   "outputs": [
    {
     "data": {
      "text/plain": [
       "0.9697457627118644"
      ]
     },
     "execution_count": 8,
     "metadata": {},
     "output_type": "execute_result"
    }
   ],
   "source": [
    "compute_coverage(lower_bound, upper_bound, y_test)"
   ]
  },
  {
   "cell_type": "code",
   "execution_count": 9,
   "id": "ef89a1b1",
   "metadata": {},
   "outputs": [
    {
     "data": {
      "text/plain": [
       "0.684124563549514"
      ]
     },
     "execution_count": 9,
     "metadata": {},
     "output_type": "execute_result"
    }
   ],
   "source": [
    "ground_truth_PIs = []\n",
    "\n",
    "for i in range(len(X_test)):\n",
    "    \n",
    "    ground_truth_PIs.append([mu_series[n1+n2 +i] - coef* std_series[n1+n2 + i], mu_series[n1+n2 +i] + coef* std_series[n1+n2 + i]])\n",
    "    \n",
    "\n",
    "compute_iou_test(lower_bound, upper_bound, ground_truth_PIs)\n",
    "    "
   ]
  },
  {
   "cell_type": "code",
   "execution_count": 10,
   "id": "2cf8f61a",
   "metadata": {},
   "outputs": [],
   "source": [
    "lower_bound_cal = model_lower.predict(X_cal)\n",
    "upper_bound_cal = model_upper.predict(X_cal)"
   ]
  },
  {
   "cell_type": "code",
   "execution_count": 11,
   "id": "ed832bd4",
   "metadata": {},
   "outputs": [
    {
     "data": {
      "text/plain": [
       "0.32686144008371876"
      ]
     },
     "execution_count": 11,
     "metadata": {},
     "output_type": "execute_result"
    }
   ],
   "source": [
    "qhat = compute_qhat_CQR(lower_bound_cal, upper_bound_cal, y_cal, alpha)\n",
    "qhat"
   ]
  },
  {
   "cell_type": "code",
   "execution_count": 12,
   "id": "1d93fd2f",
   "metadata": {},
   "outputs": [],
   "source": [
    "lower_bound = model_lower.predict(X_test) - qhat\n",
    "upper_bound = model_upper.predict(X_test) + qhat"
   ]
  },
  {
   "cell_type": "code",
   "execution_count": 13,
   "id": "03ad0c43",
   "metadata": {},
   "outputs": [
    {
     "data": {
      "text/plain": [
       "0.9894745762711864"
      ]
     },
     "execution_count": 13,
     "metadata": {},
     "output_type": "execute_result"
    }
   ],
   "source": [
    "compute_coverage(lower_bound, upper_bound, y_test)"
   ]
  },
  {
   "cell_type": "code",
   "execution_count": 14,
   "id": "f17ebdd4",
   "metadata": {},
   "outputs": [
    {
     "data": {
      "text/plain": [
       "0.7229016355668259"
      ]
     },
     "execution_count": 14,
     "metadata": {},
     "output_type": "execute_result"
    }
   ],
   "source": [
    "compute_iou_test(lower_bound, upper_bound, ground_truth_PIs)"
   ]
  },
  {
   "cell_type": "code",
   "execution_count": 15,
   "id": "9353754b",
   "metadata": {},
   "outputs": [
    {
     "data": {
      "image/png": "[encoded data removed]",
      "text/plain": [
       "<Figure size 640x480 with 1 Axes>"
      ]
     },
     "metadata": {},
     "output_type": "display_data"
    }
   ],
   "source": [
    "qhats,km, feature_importance = compute_qhat_ICQR(model_lower, model_upper, X_cal, y_cal, 0.9, alpha=alpha)"
   ]
  },
  {
   "cell_type": "code",
   "execution_count": 16,
   "id": "0117a6f8",
   "metadata": {},
   "outputs": [],
   "source": [
    "lower_bound = model_lower.predict(X_test)\n",
    "upper_bound = model_upper.predict(X_test)\n",
    "clusters_pred = km.predict(X_test * feature_importance)\n",
    "\n",
    "for i in range(len(X_test)):\n",
    "    lower_bound[i] = lower_bound[i] - qhats[clusters_pred[i]]\n",
    "    upper_bound[i] = upper_bound[i] + qhats[clusters_pred[i]]"
   ]
  },
  {
   "cell_type": "code",
   "execution_count": 17,
   "id": "6689bb83",
   "metadata": {},
   "outputs": [
    {
     "data": {
      "text/plain": [
       "0.7366571556538832"
      ]
     },
     "execution_count": 17,
     "metadata": {},
     "output_type": "execute_result"
    }
   ],
   "source": [
    "compute_iou_test(lower_bound, upper_bound, ground_truth_PIs)"
   ]
  },
  {
   "cell_type": "code",
   "execution_count": 18,
   "id": "00b2cd3a",
   "metadata": {},
   "outputs": [
    {
     "data": {
      "text/plain": [
       "0.9892372881355932"
      ]
     },
     "execution_count": 18,
     "metadata": {},
     "output_type": "execute_result"
    }
   ],
   "source": [
    "compute_coverage(lower_bound, upper_bound, y_test)"
   ]
  },
  {
   "cell_type": "code",
   "execution_count": 19,
   "id": "9aba1126",
   "metadata": {},
   "outputs": [
    {
     "data": {
      "image/png": "[encoded data removed]",
      "text/plain": [
       "<Figure size 640x480 with 1 Axes>"
      ]
     },
     "metadata": {},
     "output_type": "display_data"
    }
   ],
   "source": [
    "feature_importance = feature_importance/np.sum(feature_importance)\n",
    "categorias = ['$X_1$', '$X_2$']\n",
    "indice = [0,0.5]\n",
    "\n",
    "plt.bar(0, feature_importance[0], width=0.3)\n",
    "plt.bar(0.5, feature_importance[1], width=0.3)\n",
    "plt.xticks(indice, categorias)\n",
    "plt.ylabel('Permutation importance')\n",
    "\n",
    "# Exibindo o gráfico\n",
    "plt.show()"
   ]
  },
  {
   "cell_type": "code",
   "execution_count": null,
   "id": "934e9035",
   "metadata": {},
   "outputs": [],
   "source": []
  }
 ],
 "metadata": {
  "kernelspec": {
   "display_name": "Python 3 (ipykernel)",
   "language": "python",
   "name": "python3"
  },
  "language_info": {
   "codemirror_mode": {
    "name": "ipython",
    "version": 3
   },
   "file_extension": ".py",
   "mimetype": "text/x-python",
   "name": "python",
   "nbconvert_exporter": "python",
   "pygments_lexer": "ipython3",
   "version": "3.10.11"
  }
 },
 "nbformat": 4,
 "nbformat_minor": 5
}
